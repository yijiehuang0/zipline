{
  "nbformat": 4,
  "nbformat_minor": 0,
  "metadata": {
    "colab": {
      "name": "sensai_new_prune.ipynb",
      "provenance": [],
      "collapsed_sections": [],
      "include_colab_link": true
    },
    "kernelspec": {
      "name": "python3",
      "display_name": "Python 3"
    },
    "accelerator": "GPU"
  },
  "cells": [
    {
      "cell_type": "markdown",
      "metadata": {
        "id": "view-in-github",
        "colab_type": "text"
      },
      "source": [
        "<a href=\"https://colab.research.google.com/github/yijiehuang0/zipline/blob/master/sensai_new_prune.ipynb\" target=\"_parent\"><img src=\"https://colab.research.google.com/assets/colab-badge.svg\" alt=\"Open In Colab\"/></a>"
      ]
    },
    {
      "cell_type": "code",
      "metadata": {
        "id": "ih03zu2yjv0V",
        "colab_type": "code",
        "outputId": "02957283-bc39-415a-a962-3ad32262dd75",
        "colab": {
          "base_uri": "https://localhost:8080/",
          "height": 102
        }
      },
      "source": [
        "! git clone https://github.com/foolwood/pytorch-slimming.git\n",
        "! ls"
      ],
      "execution_count": 0,
      "outputs": [
        {
          "output_type": "stream",
          "text": [
            "Cloning into 'pytorch-slimming'...\n",
            "remote: Enumerating objects: 44, done.\u001b[K\n",
            "Unpacking objects:   2% (1/44)   \rUnpacking objects:   4% (2/44)   \rUnpacking objects:   6% (3/44)   \rUnpacking objects:   9% (4/44)   \rUnpacking objects:  11% (5/44)   \rUnpacking objects:  13% (6/44)   \rUnpacking objects:  15% (7/44)   \rUnpacking objects:  18% (8/44)   \rUnpacking objects:  20% (9/44)   \rUnpacking objects:  22% (10/44)   \rUnpacking objects:  25% (11/44)   \rUnpacking objects:  27% (12/44)   \rUnpacking objects:  29% (13/44)   \rremote: Total 44 (delta 0), reused 0 (delta 0), pack-reused 44\u001b[K\n",
            "Unpacking objects:  31% (14/44)   \rUnpacking objects:  34% (15/44)   \rUnpacking objects:  36% (16/44)   \rUnpacking objects:  38% (17/44)   \rUnpacking objects:  40% (18/44)   \rUnpacking objects:  43% (19/44)   \rUnpacking objects:  45% (20/44)   \rUnpacking objects:  47% (21/44)   \rUnpacking objects:  50% (22/44)   \rUnpacking objects:  52% (23/44)   \rUnpacking objects:  54% (24/44)   \rUnpacking objects:  56% (25/44)   \rUnpacking objects:  59% (26/44)   \rUnpacking objects:  61% (27/44)   \rUnpacking objects:  63% (28/44)   \rUnpacking objects:  65% (29/44)   \rUnpacking objects:  68% (30/44)   \rUnpacking objects:  70% (31/44)   \rUnpacking objects:  72% (32/44)   \rUnpacking objects:  75% (33/44)   \rUnpacking objects:  77% (34/44)   \rUnpacking objects:  79% (35/44)   \rUnpacking objects:  81% (36/44)   \rUnpacking objects:  84% (37/44)   \rUnpacking objects:  86% (38/44)   \rUnpacking objects:  88% (39/44)   \rUnpacking objects:  90% (40/44)   \rUnpacking objects:  93% (41/44)   \rUnpacking objects:  95% (42/44)   \rUnpacking objects:  97% (43/44)   \rUnpacking objects: 100% (44/44)   \rUnpacking objects: 100% (44/44), done.\n",
            "pytorch-slimming  sample_data\n"
          ],
          "name": "stdout"
        }
      ]
    },
    {
      "cell_type": "code",
      "metadata": {
        "id": "iRU4IRuPj7jo",
        "colab_type": "code",
        "outputId": "eddbf6c0-7b9f-40f9-9d16-b824da8704c9",
        "colab": {
          "base_uri": "https://localhost:8080/",
          "height": 34
        }
      },
      "source": [
        "%cd pytorch-slimming\n"
      ],
      "execution_count": 0,
      "outputs": [
        {
          "output_type": "stream",
          "text": [
            "/content/pytorch-slimming\n"
          ],
          "name": "stdout"
        }
      ]
    },
    {
      "cell_type": "markdown",
      "metadata": {
        "id": "raqp5yWrlr4g",
        "colab_type": "text"
      },
      "source": [
        "Prior to running the following scripts, you must modify main.py. There are two places where it says data[0] at the end of the line: in training and test sections of main.py.\n",
        "\n",
        "Click on \"view\" tab in the top left corner, click on table of contents, go into \"pytorch-slimming\" and click on main.py to modify it. Then, make the changes, control-s (cmd + s on mac) save the changes."
      ]
    },
    {
      "cell_type": "code",
      "metadata": {
        "id": "P4HLTR_zj07n",
        "colab_type": "code",
        "outputId": "fb222a15-ec33-4201-c3ad-a13c1a80dcfa",
        "colab": {
          "base_uri": "https://localhost:8080/",
          "height": 292
        }
      },
      "source": [
        "! python main.py -sr --epochs 1 --s 0.001"
      ],
      "execution_count": 0,
      "outputs": [
        {
          "output_type": "stream",
          "text": [
            "Downloading https://www.cs.toronto.edu/~kriz/cifar-10-python.tar.gz to ./data/cifar-10-python.tar.gz\n",
            "170500096it [00:02, 72929922.69it/s]                   \n",
            "Extracting ./data/cifar-10-python.tar.gz to ./data\n",
            "Train Epoch: 0 [0/50000 (0.0%)]\tLoss: 2.301967\n",
            "Train Epoch: 0 [10000/50000 (20.0%)]\tLoss: 1.692801\n",
            "Train Epoch: 0 [20000/50000 (40.0%)]\tLoss: 1.624054\n",
            "Train Epoch: 0 [30000/50000 (60.0%)]\tLoss: 1.440449\n",
            "Train Epoch: 0 [40000/50000 (80.0%)]\tLoss: 1.279290\n",
            "main.py:129: UserWarning: volatile was removed and now has no effect. Use `with torch.no_grad():` instead.\n",
            "  data, target = Variable(data, volatile=True), Variable(target)\n",
            "/usr/local/lib/python3.6/dist-packages/torch/nn/_reduction.py:43: UserWarning: size_average and reduce args will be deprecated, please use reduction='sum' instead.\n",
            "  warnings.warn(warning.format(ret))\n",
            "\n",
            "Test set: Average loss: 1.6352, Accuracy: 4297/10000 (43.0%)\n",
            "\n"
          ],
          "name": "stdout"
        }
      ]
    },
    {
      "cell_type": "code",
      "metadata": {
        "id": "luyjJVidj_Yt",
        "colab_type": "code",
        "outputId": "f4afd0e5-8db4-4992-b7cf-cc96fbba2573",
        "colab": {
          "base_uri": "https://localhost:8080/",
          "height": 51
        }
      },
      "source": [
        "! ls #now should contain model_best.pth.tar"
      ],
      "execution_count": 0,
      "outputs": [
        {
          "output_type": "stream",
          "text": [
            "checkpoint.pth.tar  LICENSE  model_best.pth.tar  __pycache__  vgg.py\n",
            "data\t\t    main.py  prune.py\t\t README.md\n"
          ],
          "name": "stdout"
        }
      ]
    },
    {
      "cell_type": "code",
      "metadata": {
        "id": "r4hpyCC0kCVX",
        "colab_type": "code",
        "outputId": "ee7ff612-1546-4819-be1f-ac617c602cda",
        "colab": {
          "base_uri": "https://localhost:8080/",
          "height": 1000
        }
      },
      "source": [
        "! python prune.py --model model_best.pth.tar --save pruned_1e3.pth.tar --percent 0.6\n"
      ],
      "execution_count": 0,
      "outputs": [
        {
          "output_type": "stream",
          "text": [
            "=> loading checkpoint 'model_best.pth.tar'\n",
            "=> loaded checkpoint 'model_best.pth.tar' (epoch 1) Prec1: 0.429700\n",
            "vgg(\n",
            "  (feature): Sequential(\n",
            "    (0): Conv2d(3, 64, kernel_size=(3, 3), stride=(1, 1), padding=(1, 1), bias=False)\n",
            "    (1): BatchNorm2d(64, eps=1e-05, momentum=0.1, affine=True, track_running_stats=True)\n",
            "    (2): ReLU(inplace=True)\n",
            "    (3): Conv2d(64, 64, kernel_size=(3, 3), stride=(1, 1), padding=(1, 1), bias=False)\n",
            "    (4): BatchNorm2d(64, eps=1e-05, momentum=0.1, affine=True, track_running_stats=True)\n",
            "    (5): ReLU(inplace=True)\n",
            "    (6): MaxPool2d(kernel_size=2, stride=2, padding=0, dilation=1, ceil_mode=False)\n",
            "    (7): Conv2d(64, 128, kernel_size=(3, 3), stride=(1, 1), padding=(1, 1), bias=False)\n",
            "    (8): BatchNorm2d(128, eps=1e-05, momentum=0.1, affine=True, track_running_stats=True)\n",
            "    (9): ReLU(inplace=True)\n",
            "    (10): Conv2d(128, 128, kernel_size=(3, 3), stride=(1, 1), padding=(1, 1), bias=False)\n",
            "    (11): BatchNorm2d(128, eps=1e-05, momentum=0.1, affine=True, track_running_stats=True)\n",
            "    (12): ReLU(inplace=True)\n",
            "    (13): MaxPool2d(kernel_size=2, stride=2, padding=0, dilation=1, ceil_mode=False)\n",
            "    (14): Conv2d(128, 256, kernel_size=(3, 3), stride=(1, 1), padding=(1, 1), bias=False)\n",
            "    (15): BatchNorm2d(256, eps=1e-05, momentum=0.1, affine=True, track_running_stats=True)\n",
            "    (16): ReLU(inplace=True)\n",
            "    (17): Conv2d(256, 256, kernel_size=(3, 3), stride=(1, 1), padding=(1, 1), bias=False)\n",
            "    (18): BatchNorm2d(256, eps=1e-05, momentum=0.1, affine=True, track_running_stats=True)\n",
            "    (19): ReLU(inplace=True)\n",
            "    (20): Conv2d(256, 256, kernel_size=(3, 3), stride=(1, 1), padding=(1, 1), bias=False)\n",
            "    (21): BatchNorm2d(256, eps=1e-05, momentum=0.1, affine=True, track_running_stats=True)\n",
            "    (22): ReLU(inplace=True)\n",
            "    (23): Conv2d(256, 256, kernel_size=(3, 3), stride=(1, 1), padding=(1, 1), bias=False)\n",
            "    (24): BatchNorm2d(256, eps=1e-05, momentum=0.1, affine=True, track_running_stats=True)\n",
            "    (25): ReLU(inplace=True)\n",
            "    (26): MaxPool2d(kernel_size=2, stride=2, padding=0, dilation=1, ceil_mode=False)\n",
            "    (27): Conv2d(256, 512, kernel_size=(3, 3), stride=(1, 1), padding=(1, 1), bias=False)\n",
            "    (28): BatchNorm2d(512, eps=1e-05, momentum=0.1, affine=True, track_running_stats=True)\n",
            "    (29): ReLU(inplace=True)\n",
            "    (30): Conv2d(512, 512, kernel_size=(3, 3), stride=(1, 1), padding=(1, 1), bias=False)\n",
            "    (31): BatchNorm2d(512, eps=1e-05, momentum=0.1, affine=True, track_running_stats=True)\n",
            "    (32): ReLU(inplace=True)\n",
            "    (33): Conv2d(512, 512, kernel_size=(3, 3), stride=(1, 1), padding=(1, 1), bias=False)\n",
            "    (34): BatchNorm2d(512, eps=1e-05, momentum=0.1, affine=True, track_running_stats=True)\n",
            "    (35): ReLU(inplace=True)\n",
            "    (36): Conv2d(512, 512, kernel_size=(3, 3), stride=(1, 1), padding=(1, 1), bias=False)\n",
            "    (37): BatchNorm2d(512, eps=1e-05, momentum=0.1, affine=True, track_running_stats=True)\n",
            "    (38): ReLU(inplace=True)\n",
            "    (39): MaxPool2d(kernel_size=2, stride=2, padding=0, dilation=1, ceil_mode=False)\n",
            "    (40): Conv2d(512, 512, kernel_size=(3, 3), stride=(1, 1), padding=(1, 1), bias=False)\n",
            "    (41): BatchNorm2d(512, eps=1e-05, momentum=0.1, affine=True, track_running_stats=True)\n",
            "    (42): ReLU(inplace=True)\n",
            "    (43): Conv2d(512, 512, kernel_size=(3, 3), stride=(1, 1), padding=(1, 1), bias=False)\n",
            "    (44): BatchNorm2d(512, eps=1e-05, momentum=0.1, affine=True, track_running_stats=True)\n",
            "    (45): ReLU(inplace=True)\n",
            "    (46): Conv2d(512, 512, kernel_size=(3, 3), stride=(1, 1), padding=(1, 1), bias=False)\n",
            "    (47): BatchNorm2d(512, eps=1e-05, momentum=0.1, affine=True, track_running_stats=True)\n",
            "    (48): ReLU(inplace=True)\n",
            "    (49): Conv2d(512, 512, kernel_size=(3, 3), stride=(1, 1), padding=(1, 1), bias=False)\n",
            "    (50): BatchNorm2d(512, eps=1e-05, momentum=0.1, affine=True, track_running_stats=True)\n",
            "    (51): ReLU(inplace=True)\n",
            "  )\n",
            "  (classifier): Linear(in_features=512, out_features=10, bias=True)\n",
            ")\n",
            "_______Thre: tensor(0.0494)\n",
            "layer index: 3 \t total channel: 64 \t remaining channel: 54\n",
            "_______Thre: tensor(0.0494)\n",
            "layer index: 6 \t total channel: 64 \t remaining channel: 57\n",
            "_______Thre: tensor(0.0494)\n",
            "layer index: 10 \t total channel: 128 \t remaining channel: 124\n",
            "_______Thre: tensor(0.0494)\n",
            "layer index: 13 \t total channel: 128 \t remaining channel: 119\n",
            "_______Thre: tensor(0.0494)\n",
            "layer index: 17 \t total channel: 256 \t remaining channel: 202\n",
            "_______Thre: tensor(0.0494)\n",
            "layer index: 20 \t total channel: 256 \t remaining channel: 200\n",
            "_______Thre: tensor(0.0494)\n",
            "layer index: 23 \t total channel: 256 \t remaining channel: 177\n",
            "_______Thre: tensor(0.0494)\n",
            "layer index: 26 \t total channel: 256 \t remaining channel: 171\n",
            "_______Thre: tensor(0.0494)\n",
            "layer index: 30 \t total channel: 512 \t remaining channel: 174\n",
            "_______Thre: tensor(0.0494)\n",
            "layer index: 33 \t total channel: 512 \t remaining channel: 130\n",
            "_______Thre: tensor(0.0494)\n",
            "layer index: 36 \t total channel: 512 \t remaining channel: 107\n",
            "_______Thre: tensor(0.0494)\n",
            "layer index: 39 \t total channel: 512 \t remaining channel: 82\n",
            "_______Thre: tensor(0.0494)\n",
            "layer index: 43 \t total channel: 512 \t remaining channel: 72\n",
            "_______Thre: tensor(0.0494)\n",
            "layer index: 46 \t total channel: 512 \t remaining channel: 69\n",
            "_______Thre: tensor(0.0494)\n",
            "layer index: 49 \t total channel: 512 \t remaining channel: 94\n",
            "_______Thre: tensor(0.0494)\n",
            "layer index: 52 \t total channel: 512 \t remaining channel: 369\n",
            "Pre-processing Successful!\n",
            "prune.py:104: UserWarning: volatile was removed and now has no effect. Use `with torch.no_grad():` instead.\n",
            "  data, target = Variable(data, volatile=True), Variable(target)\n",
            "\n",
            "Test set: Accuracy: 1000/10000 (10.0%)\n",
            "\n",
            "[54, 57, 'M', 124, 119, 'M', 202, 200, 177, 171, 'M', 174, 130, 107, 82, 'M', 72, 69, 94, 369]\n",
            "In shape: 3 Out shape:54\n",
            "In shape: 54 Out shape:57\n",
            "In shape: 57 Out shape:124\n",
            "In shape: 124 Out shape:119\n",
            "In shape: 119 Out shape:202\n",
            "In shape: 202 Out shape:200\n",
            "In shape: 200 Out shape:177\n",
            "In shape: 177 Out shape:171\n",
            "In shape: 171 Out shape:174\n",
            "In shape: 174 Out shape:130\n",
            "In shape: 130 Out shape:107\n",
            "In shape: 107 Out shape:82\n",
            "In shape: 82 Out shape:72\n",
            "In shape: 72 Out shape:69\n",
            "In shape: 69 Out shape:94\n",
            "In shape: 94 Out shape:369\n",
            "vgg(\n",
            "  (feature): Sequential(\n",
            "    (0): Conv2d(3, 54, kernel_size=(3, 3), stride=(1, 1), padding=(1, 1), bias=False)\n",
            "    (1): BatchNorm2d(54, eps=1e-05, momentum=0.1, affine=True, track_running_stats=True)\n",
            "    (2): ReLU(inplace=True)\n",
            "    (3): Conv2d(54, 57, kernel_size=(3, 3), stride=(1, 1), padding=(1, 1), bias=False)\n",
            "    (4): BatchNorm2d(57, eps=1e-05, momentum=0.1, affine=True, track_running_stats=True)\n",
            "    (5): ReLU(inplace=True)\n",
            "    (6): MaxPool2d(kernel_size=2, stride=2, padding=0, dilation=1, ceil_mode=False)\n",
            "    (7): Conv2d(57, 124, kernel_size=(3, 3), stride=(1, 1), padding=(1, 1), bias=False)\n",
            "    (8): BatchNorm2d(124, eps=1e-05, momentum=0.1, affine=True, track_running_stats=True)\n",
            "    (9): ReLU(inplace=True)\n",
            "    (10): Conv2d(124, 119, kernel_size=(3, 3), stride=(1, 1), padding=(1, 1), bias=False)\n",
            "    (11): BatchNorm2d(119, eps=1e-05, momentum=0.1, affine=True, track_running_stats=True)\n",
            "    (12): ReLU(inplace=True)\n",
            "    (13): MaxPool2d(kernel_size=2, stride=2, padding=0, dilation=1, ceil_mode=False)\n",
            "    (14): Conv2d(119, 202, kernel_size=(3, 3), stride=(1, 1), padding=(1, 1), bias=False)\n",
            "    (15): BatchNorm2d(202, eps=1e-05, momentum=0.1, affine=True, track_running_stats=True)\n",
            "    (16): ReLU(inplace=True)\n",
            "    (17): Conv2d(202, 200, kernel_size=(3, 3), stride=(1, 1), padding=(1, 1), bias=False)\n",
            "    (18): BatchNorm2d(200, eps=1e-05, momentum=0.1, affine=True, track_running_stats=True)\n",
            "    (19): ReLU(inplace=True)\n",
            "    (20): Conv2d(200, 177, kernel_size=(3, 3), stride=(1, 1), padding=(1, 1), bias=False)\n",
            "    (21): BatchNorm2d(177, eps=1e-05, momentum=0.1, affine=True, track_running_stats=True)\n",
            "    (22): ReLU(inplace=True)\n",
            "    (23): Conv2d(177, 171, kernel_size=(3, 3), stride=(1, 1), padding=(1, 1), bias=False)\n",
            "    (24): BatchNorm2d(171, eps=1e-05, momentum=0.1, affine=True, track_running_stats=True)\n",
            "    (25): ReLU(inplace=True)\n",
            "    (26): MaxPool2d(kernel_size=2, stride=2, padding=0, dilation=1, ceil_mode=False)\n",
            "    (27): Conv2d(171, 174, kernel_size=(3, 3), stride=(1, 1), padding=(1, 1), bias=False)\n",
            "    (28): BatchNorm2d(174, eps=1e-05, momentum=0.1, affine=True, track_running_stats=True)\n",
            "    (29): ReLU(inplace=True)\n",
            "    (30): Conv2d(174, 130, kernel_size=(3, 3), stride=(1, 1), padding=(1, 1), bias=False)\n",
            "    (31): BatchNorm2d(130, eps=1e-05, momentum=0.1, affine=True, track_running_stats=True)\n",
            "    (32): ReLU(inplace=True)\n",
            "    (33): Conv2d(130, 107, kernel_size=(3, 3), stride=(1, 1), padding=(1, 1), bias=False)\n",
            "    (34): BatchNorm2d(107, eps=1e-05, momentum=0.1, affine=True, track_running_stats=True)\n",
            "    (35): ReLU(inplace=True)\n",
            "    (36): Conv2d(107, 82, kernel_size=(3, 3), stride=(1, 1), padding=(1, 1), bias=False)\n",
            "    (37): BatchNorm2d(82, eps=1e-05, momentum=0.1, affine=True, track_running_stats=True)\n",
            "    (38): ReLU(inplace=True)\n",
            "    (39): MaxPool2d(kernel_size=2, stride=2, padding=0, dilation=1, ceil_mode=False)\n",
            "    (40): Conv2d(82, 72, kernel_size=(3, 3), stride=(1, 1), padding=(1, 1), bias=False)\n",
            "    (41): BatchNorm2d(72, eps=1e-05, momentum=0.1, affine=True, track_running_stats=True)\n",
            "    (42): ReLU(inplace=True)\n",
            "    (43): Conv2d(72, 69, kernel_size=(3, 3), stride=(1, 1), padding=(1, 1), bias=False)\n",
            "    (44): BatchNorm2d(69, eps=1e-05, momentum=0.1, affine=True, track_running_stats=True)\n",
            "    (45): ReLU(inplace=True)\n",
            "    (46): Conv2d(69, 94, kernel_size=(3, 3), stride=(1, 1), padding=(1, 1), bias=False)\n",
            "    (47): BatchNorm2d(94, eps=1e-05, momentum=0.1, affine=True, track_running_stats=True)\n",
            "    (48): ReLU(inplace=True)\n",
            "    (49): Conv2d(94, 369, kernel_size=(3, 3), stride=(1, 1), padding=(1, 1), bias=False)\n",
            "    (50): BatchNorm2d(369, eps=1e-05, momentum=0.1, affine=True, track_running_stats=True)\n",
            "    (51): ReLU(inplace=True)\n",
            "  )\n",
            "  (classifier): Linear(in_features=369, out_features=10, bias=True)\n",
            ")\n",
            "\n",
            "Test set: Accuracy: 1000/10000 (10.0%)\n",
            "\n"
          ],
          "name": "stdout"
        }
      ]
    },
    {
      "cell_type": "code",
      "metadata": {
        "id": "Um4tSh1ekfZx",
        "colab_type": "code",
        "outputId": "b281ada1-e40b-410e-a40c-99f8bfe3d925",
        "colab": {
          "base_uri": "https://localhost:8080/",
          "height": 258
        }
      },
      "source": [
        "! python main.py --refine pruned_1e3.pth.tar --epochs 1\n"
      ],
      "execution_count": 0,
      "outputs": [
        {
          "output_type": "stream",
          "text": [
            "Files already downloaded and verified\n",
            "Train Epoch: 0 [0/50000 (0.0%)]\tLoss: 1.578835\n",
            "Train Epoch: 0 [10000/50000 (20.0%)]\tLoss: 1.371296\n",
            "Train Epoch: 0 [20000/50000 (40.0%)]\tLoss: 1.180955\n",
            "Train Epoch: 0 [30000/50000 (60.0%)]\tLoss: 1.036755\n",
            "Train Epoch: 0 [40000/50000 (80.0%)]\tLoss: 0.976818\n",
            "main.py:129: UserWarning: volatile was removed and now has no effect. Use `with torch.no_grad():` instead.\n",
            "  data, target = Variable(data, volatile=True), Variable(target)\n",
            "/usr/local/lib/python3.6/dist-packages/torch/nn/_reduction.py:43: UserWarning: size_average and reduce args will be deprecated, please use reduction='sum' instead.\n",
            "  warnings.warn(warning.format(ret))\n",
            "\n",
            "Test set: Average loss: 1.2962, Accuracy: 5801/10000 (58.0%)\n",
            "\n"
          ],
          "name": "stdout"
        }
      ]
    },
    {
      "cell_type": "code",
      "metadata": {
        "id": "CmZ-YUQDn29g",
        "colab_type": "code",
        "colab": {}
      },
      "source": [
        ""
      ],
      "execution_count": 0,
      "outputs": []
    }
  ]
}